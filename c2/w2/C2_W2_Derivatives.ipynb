{
 "cells": [
  {
   "cell_type": "markdown",
   "id": "abe5277e",
   "metadata": {
    "tags": []
   },
   "source": [
    "# Optional Lab - Derivatives\n",
    "This lab will give you a more intuitive understanding of derivatives. It will show you a simple way of calculating derivatives arithmetically. It will also introduce you to a handy Python library that allows you to calculate derivatives symbolically."
   ]
  },
  {
   "cell_type": "code",
   "execution_count": 1,
   "id": "058ff84f",
   "metadata": {},
   "outputs": [],
   "source": [
    "from sympy import symbols, diff"
   ]
  },
  {
   "cell_type": "markdown",
   "id": "c6609359",
   "metadata": {},
   "source": [
    "## Informal definition of derivatives"
   ]
  },
  {
   "cell_type": "markdown",
   "id": "f5075551",
   "metadata": {},
   "source": [
    "The formal definition of derivatives can be a bit daunting with limits and values 'going to zero'. The idea is really much simpler. \n",
    "\n",
    "The derivative of a function describes how the output of a function changes when there is a small change in an input variable.\n",
    "\n",
    "Let's use the cost function $J(w)$ as an example. The cost $J$ is the output and $w$ is the input variable.  \n",
    "Let's give a 'small change' a name *epsilon* or $\\epsilon$. We use these Greek letters because it is traditional in mathematics to use *epsilon*($\\epsilon$) or *delta* ($\\Delta$) to represent a small value. You can think of it as representing 0.001 or some other small value.  \n",
    "\n",
    "$$\n",
    "\\begin{equation}\n",
    "\\text{if } w \\uparrow \\epsilon \\text{ causes }J(w) \\uparrow \\text{by }k \\times \\epsilon \\text{ then}  \\\\\n",
    "\\frac{\\partial J(w)}{\\partial w} = k \\tag{1}\n",
    "\\end{equation}\n",
    "$$\n",
    "\n",
    "This just says if you change the input to the function $J(w)$ by a little bit and the output changes by $k$ times that little bit, then the derivative of $J(w)$ is equal to $k$.\n",
    "\n",
    "Let's try this out.  Let's look at the derivative of the function $J(w) = w^2$ at the point $w=3$ and $\\epsilon = 0.001$"
   ]
  },
  {
   "cell_type": "code",
   "execution_count": 3,
   "id": "e73b605f",
   "metadata": {},
   "outputs": [
    {
     "name": "stdout",
     "output_type": "stream",
     "text": [
      "J = 9, J_epsilon = 9.006001, dJ_dw ~= k = 6.001000 \n"
     ]
    }
   ],
   "source": [
    "J = (3)**2\n",
    "J_epsilon = (3 + 0.001)**2\n",
    "k = (J_epsilon - J)/0.001    # difference divided by epsilon\n",
    "print(f\"J = {J}, J_epsilon = {J_epsilon}, dJ_dw ~= k = {k:0.6f} \")"
   ]
  },
  {
   "cell_type": "markdown",
   "id": "2dcd10fe",
   "metadata": {},
   "source": [
    "We have increased the input value a little bit (0.001), causing the output to change from 9 to 9.006001, an increase of 6 times the input increase. Referencing (1) above, this says that $k=6$, so $\\frac{\\partial J(w)}{\\partial w} \\approx 6$. If you are familiar with calculus, you know, written symbolically,  $\\frac{\\partial J(w)}{\\partial w} = 2 w$. With $w=3$ this is 6. Our calculation above is not exactly 6 because to be exactly correct $\\epsilon$ would need to be [infinitesimally small](https://www.dictionary.com/browse/infinitesimally) or really, really small. That is why we use the symbols $\\approx$ or ~= rather than =. Let's see what happens if we make $\\epsilon$ smaller."
   ]
  },
  {
   "cell_type": "code",
   "execution_count": 4,
   "id": "27655c1b",
   "metadata": {},
   "outputs": [
    {
     "name": "stdout",
     "output_type": "stream",
     "text": [
      "J = 9, J_epsilon = 9.000000006, dJ_dw ~= k = 6.000000496442226 \n"
     ]
    }
   ],
   "source": [
    "J = (3)**2\n",
    "J_epsilon = (3 + 0.000000001)**2\n",
    "k = (J_epsilon - J)/0.000000001\n",
    "print(f\"J = {J}, J_epsilon = {J_epsilon}, dJ_dw ~= k = {k} \")"
   ]
  },
  {
   "cell_type": "markdown",
   "id": "7d5dd950",
   "metadata": {},
   "source": [
    "The value gets close to exactly 6 as we reduce the size of $\\epsilon$. Feel free to try reducing the value further."
   ]
  },
  {
   "cell_type": "markdown",
   "id": "0d8e25ea",
   "metadata": {},
   "source": [
    "## Finding symbolic derivatives\n",
    "In backprop it is useful to know the derivative of simple functions at any input value. Put another way, we would like to know the 'symbolic' derivative rather than the 'arithmetic' derivative. An example of a symbolic derivative is,  $\\frac{\\partial J(w)}{\\partial w} = 2 w$, the derivative of $J(w) = w^2$ above.  With the symbolic derivative you can find the value of the derivative at any input value $w$.  \n",
    "\n",
    "If you have taken a calculus course, you are familiar with the many [differentiation rules](https://en.wikipedia.org/wiki/Differentiation_rules#Power_laws,_polynomials,_quotients,_and_reciprocals) that mathematicians have developed to solve for a derivative given an expression. Well, it turns out this process has been automated with symbolic differentiation programs. An example of this in python is the [SymPy](https://www.sympy.org/en/index.html) library. Let's take a look at how to use this."
   ]
  },
  {
   "cell_type": "markdown",
   "id": "7cf15aa7",
   "metadata": {},
   "source": [
    "### $J = w^2$\n",
    "Define the python variables and their symbolic names."
   ]
  },
  {
   "cell_type": "code",
   "execution_count": 5,
   "id": "a659956c",
   "metadata": {},
   "outputs": [],
   "source": [
    "J, w = symbols('J, w')"
   ]
  },
  {
   "cell_type": "markdown",
   "id": "18a55d66",
   "metadata": {},
   "source": [
    "Define and print the expression. Note SymPy produces a [latex](https://en.wikibooks.org/wiki/LaTeX/Mathematics) string which generates a nicely readable equation."
   ]
  },
  {
   "cell_type": "code",
   "execution_count": 6,
   "id": "e50b43f7",
   "metadata": {},
   "outputs": [
    {
     "data": {
      "text/latex": [
       "$\\displaystyle w^{2}$"
      ],
      "text/plain": [
       "w**2"
      ]
     },
     "execution_count": 6,
     "metadata": {},
     "output_type": "execute_result"
    }
   ],
   "source": [
    "J=w**2\n",
    "J"
   ]
  },
  {
   "cell_type": "markdown",
   "id": "133d307a",
   "metadata": {},
   "source": [
    "Use SymPy's `diff` to differentiate the expression for $J$ with respect to $w$. Note the result matches our earlier example."
   ]
  },
  {
   "cell_type": "code",
   "execution_count": 7,
   "id": "e18a4ee6",
   "metadata": {},
   "outputs": [
    {
     "data": {
      "text/latex": [
       "$\\displaystyle 2 w$"
      ],
      "text/plain": [
       "2*w"
      ]
     },
     "execution_count": 7,
     "metadata": {},
     "output_type": "execute_result"
    }
   ],
   "source": [
    "dJ_dw = diff(J,w)\n",
    "dJ_dw"
   ]
  },
  {
   "cell_type": "markdown",
   "id": "21790d4b",
   "metadata": {},
   "source": [
    "Evaluate the derivative at a few points by 'substituting' numeric values for the symbolic values. In the first example, $w$ is replaced by $2$."
   ]
  },
  {
   "cell_type": "code",
   "execution_count": 8,
   "id": "03c08f96",
   "metadata": {},
   "outputs": [
    {
     "data": {
      "text/latex": [
       "$\\displaystyle 4$"
      ],
      "text/plain": [
       "4"
      ]
     },
     "execution_count": 8,
     "metadata": {},
     "output_type": "execute_result"
    }
   ],
   "source": [
    "dJ_dw.subs([(w,2)])    # derivative at the point w = 2"
   ]
  },
  {
   "cell_type": "code",
   "execution_count": 9,
   "id": "4255bf83",
   "metadata": {
    "scrolled": true
   },
   "outputs": [
    {
     "data": {
      "text/latex": [
       "$\\displaystyle 6$"
      ],
      "text/plain": [
       "6"
      ]
     },
     "execution_count": 9,
     "metadata": {},
     "output_type": "execute_result"
    }
   ],
   "source": [
    "dJ_dw.subs([(w,3)])    # derivative at the point w = 3"
   ]
  },
  {
   "cell_type": "code",
   "execution_count": 10,
   "id": "cb72b96a",
   "metadata": {},
   "outputs": [
    {
     "data": {
      "text/latex": [
       "$\\displaystyle -6$"
      ],
      "text/plain": [
       "-6"
      ]
     },
     "execution_count": 10,
     "metadata": {},
     "output_type": "execute_result"
    }
   ],
   "source": [
    "dJ_dw.subs([(w,-3)])    # derivative at the point w = -3"
   ]
  },
  {
   "cell_type": "markdown",
   "id": "0191286c",
   "metadata": {},
   "source": [
    "## $J = 2w$"
   ]
  },
  {
   "cell_type": "code",
   "execution_count": 11,
   "id": "5408cb17",
   "metadata": {
    "tags": []
   },
   "outputs": [],
   "source": [
    "w, J = symbols('w, J')"
   ]
  },
  {
   "cell_type": "code",
   "execution_count": 12,
   "id": "54b0b891",
   "metadata": {},
   "outputs": [
    {
     "data": {
      "text/latex": [
       "$\\displaystyle 2 w$"
      ],
      "text/plain": [
       "2*w"
      ]
     },
     "execution_count": 12,
     "metadata": {},
     "output_type": "execute_result"
    }
   ],
   "source": [
    "J = 2 * w\n",
    "J"
   ]
  },
  {
   "cell_type": "code",
   "execution_count": 13,
   "id": "215af650",
   "metadata": {
    "tags": []
   },
   "outputs": [
    {
     "data": {
      "text/latex": [
       "$\\displaystyle 2$"
      ],
      "text/plain": [
       "2"
      ]
     },
     "execution_count": 13,
     "metadata": {},
     "output_type": "execute_result"
    }
   ],
   "source": [
    "dJ_dw = diff(J,w)\n",
    "dJ_dw"
   ]
  },
  {
   "cell_type": "code",
   "execution_count": 14,
   "id": "b20bf233",
   "metadata": {},
   "outputs": [
    {
     "data": {
      "text/latex": [
       "$\\displaystyle 2$"
      ],
      "text/plain": [
       "2"
      ]
     },
     "execution_count": 14,
     "metadata": {},
     "output_type": "execute_result"
    }
   ],
   "source": [
    "dJ_dw.subs([(w,-3)])    # derivative at the point w = -3"
   ]
  },
  {
   "cell_type": "markdown",
   "id": "41f52fdb",
   "metadata": {},
   "source": [
    "Compare this with the arithmetic calculation"
   ]
  },
  {
   "cell_type": "code",
   "execution_count": 15,
   "id": "e1267c9c",
   "metadata": {},
   "outputs": [
    {
     "name": "stdout",
     "output_type": "stream",
     "text": [
      "J = 6, J_epsilon = 6.002, dJ_dw ~= k = 1.9999999999997797 \n"
     ]
    }
   ],
   "source": [
    "J = 2*3\n",
    "J_epsilon = 2*(3 + 0.001)\n",
    "k = (J_epsilon - J)/0.001\n",
    "print(f\"J = {J}, J_epsilon = {J_epsilon}, dJ_dw ~= k = {k} \")"
   ]
  },
  {
   "cell_type": "markdown",
   "id": "d4632d57",
   "metadata": {},
   "source": [
    "For the function $J=2w$, it is easy to see that any change in $w$ will result in 2 times that amount of change in the output $J$, regardless of the starting value of $w$. Our NumPy and arithmetic results confirm this. "
   ]
  },
  {
   "cell_type": "markdown",
   "id": "d60ca217",
   "metadata": {},
   "source": [
    "## $J = w^3$"
   ]
  },
  {
   "cell_type": "code",
   "execution_count": 16,
   "id": "49b03282",
   "metadata": {},
   "outputs": [],
   "source": [
    "J, w = symbols('J, w')"
   ]
  },
  {
   "cell_type": "code",
   "execution_count": 17,
   "id": "8ee15e17",
   "metadata": {},
   "outputs": [
    {
     "data": {
      "text/latex": [
       "$\\displaystyle w^{3}$"
      ],
      "text/plain": [
       "w**3"
      ]
     },
     "execution_count": 17,
     "metadata": {},
     "output_type": "execute_result"
    }
   ],
   "source": [
    "J=w**3\n",
    "J"
   ]
  },
  {
   "cell_type": "code",
   "execution_count": null,
   "id": "3ecab58f",
   "metadata": {},
   "outputs": [],
   "source": [
    "dJ_dw = diff(J,w)\n",
    "dJ_dw"
   ]
  },
  {
   "cell_type": "code",
   "execution_count": null,
   "id": "e171e168",
   "metadata": {},
   "outputs": [],
   "source": [
    "dJ_dw.subs([(w,2)])   # derivative at the point w=2"
   ]
  },
  {
   "cell_type": "markdown",
   "id": "3160c6dc",
   "metadata": {},
   "source": [
    "Compare this with the arithmetic calculation"
   ]
  },
  {
   "cell_type": "code",
   "execution_count": null,
   "id": "0ba40dc5",
   "metadata": {},
   "outputs": [],
   "source": [
    "J = (2)**3\n",
    "J_epsilon = (2+0.001)**3\n",
    "k = (J_epsilon - J)/0.001\n",
    "print(f\"J = {J}, J_epsilon = {J_epsilon}, dJ_dw ~= k = {k} \")"
   ]
  },
  {
   "cell_type": "markdown",
   "id": "e64fb484",
   "metadata": {},
   "source": [
    "## $J = \\frac{1}{w}$"
   ]
  },
  {
   "cell_type": "code",
   "execution_count": null,
   "id": "595c6a4e",
   "metadata": {},
   "outputs": [],
   "source": [
    "J, w = symbols('J, w')"
   ]
  },
  {
   "cell_type": "code",
   "execution_count": null,
   "id": "b6ab88bd",
   "metadata": {},
   "outputs": [],
   "source": [
    "J= 1/w\n",
    "J"
   ]
  },
  {
   "cell_type": "code",
   "execution_count": null,
   "id": "3c2a4def",
   "metadata": {},
   "outputs": [],
   "source": [
    "dJ_dw = diff(J,w)\n",
    "dJ_dw"
   ]
  },
  {
   "cell_type": "code",
   "execution_count": null,
   "id": "81c4da6b",
   "metadata": {},
   "outputs": [],
   "source": [
    "dJ_dw.subs([(w,2)])"
   ]
  },
  {
   "cell_type": "markdown",
   "id": "621ca753",
   "metadata": {},
   "source": [
    "Compare this with the arithmetic calculation"
   ]
  },
  {
   "cell_type": "code",
   "execution_count": null,
   "id": "50cac0f2",
   "metadata": {},
   "outputs": [],
   "source": [
    "J = 1/2\n",
    "J_epsilon = 1/(2+0.001)\n",
    "k = (J_epsilon - J)/0.001\n",
    "print(f\"J = {J}, J_epsilon = {J_epsilon}, dJ_dw ~= k = {k} \")"
   ]
  },
  {
   "cell_type": "markdown",
   "id": "85f94d1d",
   "metadata": {},
   "source": [
    "## $J = \\frac{1}{w^2}$"
   ]
  },
  {
   "cell_type": "code",
   "execution_count": null,
   "id": "75b6c6ee",
   "metadata": {},
   "outputs": [],
   "source": [
    "J, w = symbols('J, w')"
   ]
  },
  {
   "cell_type": "markdown",
   "id": "57782eb7",
   "metadata": {},
   "source": [
    "If you have time, try to repeat the above steps on the function  $J = \\frac{1}{w^2}$ and evaluate at w=4"
   ]
  },
  {
   "cell_type": "code",
   "execution_count": null,
   "id": "d4edc2f4",
   "metadata": {},
   "outputs": [],
   "source": []
  },
  {
   "cell_type": "code",
   "execution_count": null,
   "id": "08ed115d",
   "metadata": {},
   "outputs": [],
   "source": []
  },
  {
   "cell_type": "code",
   "execution_count": null,
   "id": "a438793d",
   "metadata": {},
   "outputs": [],
   "source": []
  },
  {
   "cell_type": "markdown",
   "id": "37aa816f",
   "metadata": {},
   "source": [
    "Compare this with the arithmetic calculation"
   ]
  },
  {
   "cell_type": "code",
   "execution_count": null,
   "id": "c6fe38d3",
   "metadata": {},
   "outputs": [],
   "source": [
    "J = 1/4**2\n",
    "J_epsilon = 1/(4+0.001)**2\n",
    "k = (J_epsilon - J)/0.001\n",
    "print(f\"J = {J}, J_epsilon = {J_epsilon}, dJ_dw ~= k = {k} \")"
   ]
  },
  {
   "cell_type": "markdown",
   "id": "2eecf918",
   "metadata": {},
   "source": [
    "<details>\n",
    "  <summary><font size=\"3\" color=\"darkgreen\"><b>Click for hints</b></font></summary>\n",
    "    \n",
    "```python \n",
    "J= 1/w**2\n",
    "dJ_dw = diff(J,w)\n",
    "dJ_dw.subs([(w,4)])\n",
    "```\n",
    "  \n",
    "\n",
    "</details>\n",
    "\n",
    "    \n"
   ]
  },
  {
   "cell_type": "markdown",
   "id": "50e4f052",
   "metadata": {},
   "source": [
    "## Congratulations!\n",
    "If you have run through the above examples, you understand a derivative describes the change in the output of a function that is a result of a small change in an input to that function. You also can use *SymPy* in python to find the symbolic derivative of functions."
   ]
  }
 ],
 "metadata": {
  "kernelspec": {
   "display_name": "Python 3 (ipykernel)",
   "language": "python",
   "name": "python3"
  },
  "language_info": {
   "codemirror_mode": {
    "name": "ipython",
    "version": 3
   },
   "file_extension": ".py",
   "mimetype": "text/x-python",
   "name": "python",
   "nbconvert_exporter": "python",
   "pygments_lexer": "ipython3",
   "version": "3.7.9"
  }
 },
 "nbformat": 4,
 "nbformat_minor": 5
}
